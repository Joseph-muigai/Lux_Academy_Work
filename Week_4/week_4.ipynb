{
 "cells": [
  {
   "cell_type": "code",
   "execution_count": 1,
   "metadata": {},
   "outputs": [
    {
     "name": "stdout",
     "output_type": "stream",
     "text": [
      "The string is not a palindrome.\n"
     ]
    }
   ],
   "source": [
    "#rite a Python program to check whether a string is a palindrome or not using a stack.\n",
    "#PS: Pay attention to the specified data structure.\n",
    "\n",
    "\n",
    "class Stack:\n",
    "    def __init__(self):\n",
    "        self.items = []\n",
    "    def is_empty(self):\n",
    "        return self.items == []\n",
    "    def push(self, item):\n",
    "        self.items.append(item)\n",
    "    def pop(self):\n",
    "        return self.items.pop()\n",
    "s = Stack()\n",
    "string = input(\"Enter a string: \")\n",
    "for char in string:\n",
    "    s.push(char)\n",
    "rev_string = ''\n",
    "while not s.is_empty():\n",
    "    rev_string = rev_string + s.pop()\n",
    "if string == rev_string:\n",
    "    print(\"The string is a palindrome.\")\n",
    "else:\n",
    "    print(\"The string is not a palindrome.\")\n",
    "\n",
    "\n"
   ]
  },
  {
   "cell_type": "markdown",
   "metadata": {},
   "source": [
    "- 2. Explain the concept of list comprehension in Python with at least three examples.\n",
    "\n",
    "List comprehension is a concise way to create lists in Python. It is a more readable and efficient way to create lists. It is a way to create lists by iterating over an iterable object and applying an expression to each element in the iterable object. List comprehension is a more concise way to create lists than using a for loop.\n",
    "### example 1\n",
    "```python\n",
    "# create a list of squares of numbers from 1 to 10\n",
    "squares = [x**2 for x in range(1, 11)]\n",
    "print(squares)\n",
    "```\n",
    "Output:\n",
    "```\n",
    "[1, 4, 9, 16, 25, 36, 49, 64, 81, 100]\n",
    "```\n",
    "### example 2\n",
    "```python\n",
    "# create a list of even numbers from 1 to 10\n",
    "\n",
    "even_numbers = [x for x in range(1, 11) if x % 2 == 0]\n",
    "print(even_numbers)\n",
    "```\n",
    "Output:\n",
    "```\n",
    "[2, 4, 6, 8, 10]\n",
    "```\n",
    "### example 3\n",
    "```python\n",
    "# create a list of squares of even numbers from 1 to 10\n",
    "\n",
    "squares_of_even_numbers = [x**2 for x in range(1, 11) if x % 2 == 0]\n",
    "print(squares_of_even_numbers)\n",
    "```\n",
    "Output:\n",
    "```\n",
    "[4, 16, 36, 64, 100]\n",
    "```\n",
    "In the first example, we create a list of squares of numbers from 1 to 10 using list comprehension. In the second example, we create a list of even numbers from 1 to 10 using list comprehension with a condition. In the third example, we create a list of squares of even numbers from 1 to 10 using list comprehension with a condition. List comprehension is a powerful and concise way to create lists in Python."
   ]
  },
  {
   "cell_type": "markdown",
   "metadata": {},
   "source": [
    "- 3. Explain what a compound datatype is in Python with three examples.\n",
    "\n",
    "A compound datatype in Python is a datatype that can hold multiple values. It is a datatype that can store multiple elements or values in a single variable. There are several compound datatypes in Python, such as lists, tuples, dictionaries, and sets. Compound datatypes are useful for storing and manipulating collections of data.\n",
    "\n",
    "### example 1\n",
    "```python\n",
    "# list\n",
    "numbers = [1, 2, 3, 4, 5]\n",
    "print(numbers)\n",
    "```\n",
    "Output:\n",
    "```\n",
    "[1, 2, 3, 4, 5]\n",
    "```\n",
    "In this example, we create a list of numbers using a list datatype.\n",
    "\n",
    "### example 2\n",
    "```python\n",
    "# tuple\n",
    "coordinates = (10, 20)\n",
    "print(coordinates)\n",
    "```\n",
    "Output:\n",
    "```\n",
    "(10, 20)\n",
    "```\n",
    "In this example, we create a tuple of coordinates using a tuple datatype.\n",
    "\n",
    "### example 3\n",
    "```python\n",
    "# dictionary\n",
    "person = {'name': 'John', 'age': 30}\n",
    "print(person)\n",
    "```\n",
    "Output:\n",
    "```\n",
    "{'name': 'John', 'age': 30}\n",
    "```\n",
    "In this example, we create a dictionary of a person's information using a dictionary datatype."
   ]
  },
  {
   "cell_type": "code",
   "execution_count": 8,
   "metadata": {},
   "outputs": [
    {
     "name": "stdout",
     "output_type": "stream",
     "text": [
      "['he', 'el', 'll', 'lo']\n",
      "['py', 'yt', 'th', 'ho', 'on']\n"
     ]
    }
   ],
   "source": [
    "def bigrams(s):\n",
    "    result = []\n",
    "    for i in range(len(s)-1):\n",
    "        result.append(s[i:i+2])\n",
    "    return result\n",
    "\n",
    "print(bigrams('hello'))\n",
    "print(bigrams('python'))\n"
   ]
  },
  {
   "cell_type": "code",
   "execution_count": 12,
   "metadata": {},
   "outputs": [
    {
     "name": "stdout",
     "output_type": "stream",
     "text": [
      "E\n"
     ]
    }
   ],
   "source": [
    "# Given a dictionary with keys as letters and values as lists of letters, write a function closest_key to find the key with the input value closest to the beginning of the list.\n",
    "\n",
    "def closest_key(input_dict, value):\n",
    "    closest_key = None\n",
    "    closest_index = float('inf')\n",
    "    \n",
    "    for key, values in input_dict.items():\n",
    "        if value in values:\n",
    "            index = values.index(value)\n",
    "            if index < closest_index:\n",
    "                closest_index = index\n",
    "                closest_key = key\n",
    "    \n",
    "    return closest_key\n",
    "\n",
    "# calling the function\n",
    "input_dict = {\n",
    "    'A': ['B', 'C', 'D'],\n",
    "    'E': ['F', 'G', 'H'],\n",
    "    'I': ['J', 'K', 'L']\n",
    "}\n",
    "\n",
    "value = 'G'\n",
    "print(closest_key(input_dict, value))  # Output: 'E'\n"
   ]
  }
 ],
 "metadata": {
  "kernelspec": {
   "display_name": "Python 3",
   "language": "python",
   "name": "python3"
  },
  "language_info": {
   "codemirror_mode": {
    "name": "ipython",
    "version": 3
   },
   "file_extension": ".py",
   "mimetype": "text/x-python",
   "name": "python",
   "nbconvert_exporter": "python",
   "pygments_lexer": "ipython3",
   "version": "3.12.3"
  }
 },
 "nbformat": 4,
 "nbformat_minor": 2
}
