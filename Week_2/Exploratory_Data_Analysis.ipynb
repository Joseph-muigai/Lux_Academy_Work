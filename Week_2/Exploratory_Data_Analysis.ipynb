{
 "cells": [
  {
   "cell_type": "code",
   "execution_count": 5,
   "metadata": {},
   "outputs": [],
   "source": [
    "import pandas as pd\n",
    "import numpy as np\n",
    "import matplotlib.pyplot as plt\n",
    "import seaborn as sns"
   ]
  },
  {
   "cell_type": "markdown",
   "metadata": {},
   "source": [
    "## What are the key characteristics of the dataset? (e.g., number of records, features, data types)"
   ]
  },
  {
   "cell_type": "code",
   "execution_count": 12,
   "metadata": {},
   "outputs": [],
   "source": [
    "\n",
    "df = pd.read_csv(\"1. Weather Data.csv\")"
   ]
  },
  {
   "cell_type": "code",
   "execution_count": 19,
   "metadata": {},
   "outputs": [
    {
     "name": "stdout",
     "output_type": "stream",
     "text": [
      "       Date/Time  Temp_C  Dew Point Temp_C  Rel Hum_%  Wind Speed_km/h  \\\n",
      "0  1/1/2012 0:00    -1.8              -3.9         86                4   \n",
      "1  1/1/2012 1:00    -1.8              -3.7         87                4   \n",
      "2  1/1/2012 2:00    -1.8              -3.4         89                7   \n",
      "3  1/1/2012 3:00    -1.5              -3.2         88                6   \n",
      "4  1/1/2012 4:00    -1.5              -3.3         88                7   \n",
      "\n",
      "   Visibility_km  Press_kPa               Weather  \n",
      "0            8.0     101.24                   Fog  \n",
      "1            8.0     101.24                   Fog  \n",
      "2            4.0     101.26  Freezing Drizzle,Fog  \n",
      "3            4.0     101.27  Freezing Drizzle,Fog  \n",
      "4            4.8     101.23                   Fog  \n",
      "Shape of the data: \n",
      " (8784, 8)\n",
      "Columns in the data: \n",
      " Index(['Date/Time', 'Temp_C', 'Dew Point Temp_C', 'Rel Hum_%',\n",
      "       'Wind Speed_km/h', 'Visibility_km', 'Press_kPa', 'Weather'],\n",
      "      dtype='object')\n",
      "Data types of the columns: \n",
      " Date/Time            object\n",
      "Temp_C              float64\n",
      "Dew Point Temp_C    float64\n",
      "Rel Hum_%             int64\n",
      "Wind Speed_km/h       int64\n",
      "Visibility_km       float64\n",
      "Press_kPa           float64\n",
      "Weather              object\n",
      "dtype: object\n"
     ]
    }
   ],
   "source": [
    "# key characteristics of the data\n",
    "print(df.head())\n",
    "\n",
    "print(\"Shape of the data: \\n\", df.shape)\n",
    "\n",
    "print(\"Columns in the data: \\n\",df.columns)\n",
    "\n",
    "print(\"Data types of the columns: \\n\",df.dtypes)"
   ]
  },
  {
   "cell_type": "markdown",
   "metadata": {},
   "source": [
    "## Identify and handle any missing or null values. Describe your approach and reasoning."
   ]
  },
  {
   "cell_type": "code",
   "execution_count": 21,
   "metadata": {},
   "outputs": [
    {
     "data": {
      "text/plain": [
       "Date/Time           0\n",
       "Temp_C              0\n",
       "Dew Point Temp_C    0\n",
       "Rel Hum_%           0\n",
       "Wind Speed_km/h     0\n",
       "Visibility_km       0\n",
       "Press_kPa           0\n",
       "Weather             0\n",
       "dtype: int64"
      ]
     },
     "execution_count": 21,
     "metadata": {},
     "output_type": "execute_result"
    }
   ],
   "source": [
    "df.isna().sum()"
   ]
  },
  {
   "cell_type": "markdown",
   "metadata": {},
   "source": [
    "## Check for and address any duplicate records."
   ]
  },
  {
   "cell_type": "code",
   "execution_count": 23,
   "metadata": {},
   "outputs": [
    {
     "name": "stdout",
     "output_type": "stream",
     "text": [
      "Duplicate rows in the data: \n",
      " 0\n"
     ]
    }
   ],
   "source": [
    "# duplicate rows\n",
    "print(\"Duplicate rows in the data: \\n\", df.duplicated().sum())"
   ]
  },
  {
   "cell_type": "markdown",
   "metadata": {},
   "source": [
    "# Provide a statistical summary of the dataset (mean, median, standard deviation, etc.) for numerical features."
   ]
  },
  {
   "cell_type": "code",
   "execution_count": 29,
   "metadata": {},
   "outputs": [
    {
     "name": "stdout",
     "output_type": "stream",
     "text": [
      "Temp_c mean: \n",
      " 8.798144353369764\n",
      "Dew Point Temp_C mean: \n",
      " 3.3\n",
      "Relative Humidity mean: \n",
      " 67.43169398907104\n",
      "Wind Speed in km/h mean: \n",
      " 14.94546903460838\n",
      "Visibility in km mean: \n",
      " 27.664446721311478\n",
      "Pressure in kPa mean: \n",
      " 101.05162340619307\n"
     ]
    }
   ],
   "source": [
    "# mean\n",
    "print(\"Temp_c mean: \\n\", df['Temp_C'].mean())\n",
    "print(\"Dew Point Temp_C mean: \\n\", df['Dew Point Temp_C'].median())\n",
    "print (\"Relative Humidity mean: \\n\", df['Rel Hum_%'].mean())\n",
    "print(\"Wind Speed in km/h mean: \\n\", df['Wind Speed_km/h'].mean())\n",
    "print(\"Visibility in km mean: \\n\", df['Visibility_km'].mean())\n",
    "print(\"Pressure in kPa mean: \\n\", df['Press_kPa'].mean())\n"
   ]
  },
  {
   "cell_type": "code",
   "execution_count": 30,
   "metadata": {},
   "outputs": [
    {
     "name": "stdout",
     "output_type": "stream",
     "text": [
      "Temp_c median: \n",
      " 9.3\n",
      "Dew Point Temp_C median: \n",
      " 3.3\n",
      "Relative Humidity median: \n",
      " 68.0\n",
      "Wind Speed in km/h median: \n",
      " 13.0\n",
      "Visibility in km median: \n",
      " 25.0\n",
      "Pressure in kPa median: \n",
      " 101.07\n"
     ]
    }
   ],
   "source": [
    "# median\n",
    "print(\"Temp_c median: \\n\", df['Temp_C'].median())\n",
    "print(\"Dew Point Temp_C median: \\n\", df['Dew Point Temp_C'].median())\n",
    "print (\"Relative Humidity median: \\n\", df['Rel Hum_%'].median())\n",
    "print(\"Wind Speed in km/h median: \\n\", df['Wind Speed_km/h'].median())\n",
    "print(\"Visibility in km median: \\n\", df['Visibility_km'].median())\n",
    "print(\"Pressure in kPa median: \\n\", df['Press_kPa'].median())\n"
   ]
  },
  {
   "cell_type": "code",
   "execution_count": 31,
   "metadata": {},
   "outputs": [
    {
     "name": "stdout",
     "output_type": "stream",
     "text": [
      "Temp_c mode: \n",
      " 0    16.6\n",
      "Name: Temp_C, dtype: float64\n",
      "Dew Point Temp_C mode: \n",
      " 0    -0.9\n",
      "1    12.9\n",
      "Name: Dew Point Temp_C, dtype: float64\n",
      "Relative Humidity mode: \n",
      " 0    68\n",
      "Name: Rel Hum_%, dtype: int64\n",
      "Wind Speed in km/h mode: \n",
      " 0    9\n",
      "Name: Wind Speed_km/h, dtype: int64\n",
      "Visibility in km mode: \n",
      " 0    25.0\n",
      "Name: Visibility_km, dtype: float64\n",
      "Pressure in kPa mode: \n",
      " 0    101.13\n",
      "Name: Press_kPa, dtype: float64\n"
     ]
    }
   ],
   "source": [
    "# mode\n",
    "print(\"Temp_c mode: \\n\", df['Temp_C'].mode())\n",
    "print(\"Dew Point Temp_C mode: \\n\", df['Dew Point Temp_C'].mode())\n",
    "print (\"Relative Humidity mode: \\n\", df['Rel Hum_%'].mode())\n",
    "print(\"Wind Speed in km/h mode: \\n\", df['Wind Speed_km/h'].mode())\n",
    "print(\"Visibility in km mode: \\n\", df['Visibility_km'].mode())\n",
    "print(\"Pressure in kPa mode: \\n\", df['Press_kPa'].mode())\n",
    "    "
   ]
  },
  {
   "cell_type": "code",
   "execution_count": 33,
   "metadata": {},
   "outputs": [
    {
     "name": "stdout",
     "output_type": "stream",
     "text": [
      "Temp_c standard deviation: \n",
      " 11.687882769691276\n",
      "Dew Point Temp_C standard deviation: \n",
      " 10.883072319155794\n",
      "Relative Humidity standard deviation: \n",
      " 16.91888147007662\n",
      "Wind Speed in km/h standard deviation: \n",
      " 8.688696079468851\n",
      "Visibility in km standard deviation: \n",
      " 12.622688245171492\n",
      "Pressure in kPa standard deviation: \n",
      " 0.8440047459486483\n"
     ]
    }
   ],
   "source": [
    "# standard deviation\n",
    "print(\"Temp_c standard deviation: \\n\", df['Temp_C'].std())\n",
    "print(\"Dew Point Temp_C standard deviation: \\n\", df['Dew Point Temp_C'].std())\n",
    "print (\"Relative Humidity standard deviation: \\n\", df['Rel Hum_%'].std())\n",
    "print(\"Wind Speed in km/h standard deviation: \\n\", df['Wind Speed_km/h'].std())\n",
    "print(\"Visibility in km standard deviation: \\n\", df['Visibility_km'].std())\n",
    "print(\"Pressure in kPa standard deviation: \\n\", df['Press_kPa'].std())\n"
   ]
  },
  {
   "cell_type": "code",
   "execution_count": 34,
   "metadata": {},
   "outputs": [
    {
     "name": "stdout",
     "output_type": "stream",
     "text": [
      "Temp_c variance: \n",
      " 136.6066036380462\n",
      "Dew Point Temp_C variance: \n",
      " 118.44126310397507\n",
      "Relative Humidity variance: \n",
      " 286.24855019850196\n",
      "Wind Speed in km/h variance: \n",
      " 75.49343956137737\n",
      "Visibility in km variance: \n",
      " 159.33225853479058\n",
      "Pressure in kPa variance: \n",
      " 0.7123440111838423\n"
     ]
    }
   ],
   "source": [
    "# variance\n",
    "print(\"Temp_c variance: \\n\", df['Temp_C'].var())\n",
    "print(\"Dew Point Temp_C variance: \\n\", df['Dew Point Temp_C'].var())\n",
    "print (\"Relative Humidity variance: \\n\", df['Rel Hum_%'].var())\n",
    "print(\"Wind Speed in km/h variance: \\n\", df['Wind Speed_km/h'].var())\n",
    "print(\"Visibility in km variance: \\n\", df['Visibility_km'].var())\n",
    "print(\"Pressure in kPa variance: \\n\", df['Press_kPa'].var())\n"
   ]
  },
  {
   "cell_type": "code",
   "execution_count": 48,
   "metadata": {},
   "outputs": [
    {
     "name": "stdout",
     "output_type": "stream",
     "text": [
      "Empty DataFrame\n",
      "Columns: [Date/Time, Temp_C, Dew Point Temp_C, Rel Hum_%, Wind Speed_km/h, Visibility_km, Press_kPa, Weather]\n",
      "Index: []\n",
      "Empty DataFrame\n",
      "Columns: [Date/Time, Temp_C, Dew Point Temp_C, Rel Hum_%, Wind Speed_km/h, Visibility_km, Press_kPa, Weather]\n",
      "Index: []\n",
      "            Date/Time  Temp_C  Dew Point Temp_C  Rel Hum_%  Wind Speed_km/h  \\\n",
      "1984  3/23/2012 16:00    15.5              -9.0         18               22   \n",
      "3066   5/7/2012 18:00    20.7              -4.4         18               13   \n",
      "\n",
      "      Visibility_km  Press_kPa        Weather  \n",
      "1984           48.3      101.6         Cloudy  \n",
      "3066           48.3      101.0  Mostly Cloudy  \n",
      "\n",
      "\n",
      "Wind speed outliers \n",
      "              Date/Time  Temp_C  Dew Point Temp_C  Rel Hum_%  Wind Speed_km/h  \\\n",
      "25       1/2/2012 1:00     4.6               0.0         72               39   \n",
      "32       1/2/2012 8:00     1.9              -3.3         68               39   \n",
      "33       1/2/2012 9:00     1.8              -3.7         67               44   \n",
      "34      1/2/2012 10:00     1.5              -4.1         66               43   \n",
      "36      1/2/2012 12:00     1.7              -6.2         56               48   \n",
      "...                ...     ...               ...        ...              ...   \n",
      "8679  12/27/2012 15:00    -5.0              -6.2         91               37   \n",
      "8680  12/27/2012 16:00    -4.5              -6.2         88               37   \n",
      "8684  12/27/2012 20:00    -3.7              -5.3         89               37   \n",
      "8749  12/30/2012 13:00   -12.4             -16.2         73               37   \n",
      "8750  12/30/2012 14:00   -11.8             -16.1         70               37   \n",
      "\n",
      "      Visibility_km  Press_kPa            Weather  \n",
      "25             25.0      99.26             Cloudy  \n",
      "32             24.1      99.14      Mostly Cloudy  \n",
      "33             24.1      99.14      Mostly Cloudy  \n",
      "34             24.1      99.18      Mostly Cloudy  \n",
      "36             24.1      99.21       Mainly Clear  \n",
      "...             ...        ...                ...  \n",
      "8679            0.6     100.37  Snow,Blowing Snow  \n",
      "8680            2.0     100.44  Snow,Blowing Snow  \n",
      "8684           16.1     100.58               Snow  \n",
      "8749           48.3     100.92      Mostly Cloudy  \n",
      "8750           48.3     100.96       Mainly Clear  \n",
      "\n",
      "[162 rows x 8 columns]\n",
      "\n",
      "\n",
      " Visibility outliers \n",
      "              Date/Time  Temp_C  Dew Point Temp_C  Rel Hum_%  Wind Speed_km/h  \\\n",
      "0        1/1/2012 0:00    -1.8              -3.9         86                4   \n",
      "1        1/1/2012 1:00    -1.8              -3.7         87                4   \n",
      "2        1/1/2012 2:00    -1.8              -3.4         89                7   \n",
      "3        1/1/2012 3:00    -1.5              -3.2         88                6   \n",
      "4        1/1/2012 4:00    -1.5              -3.3         88                7   \n",
      "...                ...     ...               ...        ...              ...   \n",
      "8779  12/31/2012 19:00     0.1              -2.7         81               30   \n",
      "8780  12/31/2012 20:00     0.2              -2.4         83               24   \n",
      "8781  12/31/2012 21:00    -0.5              -1.5         93               28   \n",
      "8782  12/31/2012 22:00    -0.2              -1.8         89               28   \n",
      "8783  12/31/2012 23:00     0.0              -2.1         86               30   \n",
      "\n",
      "      Visibility_km  Press_kPa               Weather  \n",
      "0               8.0     101.24                   Fog  \n",
      "1               8.0     101.24                   Fog  \n",
      "2               4.0     101.26  Freezing Drizzle,Fog  \n",
      "3               4.0     101.27  Freezing Drizzle,Fog  \n",
      "4               4.8     101.23                   Fog  \n",
      "...             ...        ...                   ...  \n",
      "8779            9.7     100.13                  Snow  \n",
      "8780            9.7     100.03                  Snow  \n",
      "8781            4.8      99.95                  Snow  \n",
      "8782            9.7      99.91                  Snow  \n",
      "8783           11.3      99.89                  Snow  \n",
      "\n",
      "[3539 rows x 8 columns]\n"
     ]
    }
   ],
   "source": [
    "#Identify and describe any significant outliers in the data.\n",
    "\n",
    "Q1 = df['Temp_C'].quantile(0.25)\n",
    "Q3 = df['Temp_C'].quantile(0.75)\n",
    "IQR = Q3 - Q1\n",
    "\n",
    "Temp_c_outliers = df[(df['Temp_C'] < (Q1 - 1.5 * IQR)) | (df['Temp_C'] > (Q3 + 1.5 * IQR))]\n",
    "print(Temp_c_outliers)\n",
    "\n",
    "Q1 = df['Dew Point Temp_C'].quantile(0.25)\n",
    "Q3 = df['Dew Point Temp_C'].quantile(0.75)\n",
    "IQR = Q3 - Q1\n",
    "\n",
    "Dew_Point_Temp_C_outliers = df[(df['Dew Point Temp_C'] < (Q1 - 1.5 * IQR)) | (df['Dew Point Temp_C'] > (Q3 + 1.5 * IQR))]\n",
    "print(Dew_Point_Temp_C_outliers)\n",
    "\n",
    "Q1 = df['Rel Hum_%'].quantile(0.25)\n",
    "Q3 = df['Rel Hum_%'].quantile(0.75)\n",
    "IQR = Q3 - Q1\n",
    "Rel_Hum_outliers = df[(df['Rel Hum_%'] < (Q1 - 1.5 * IQR)) | (df['Rel Hum_%'] > (Q3 + 1.5 * IQR))]\n",
    "print(Rel_Hum_outliers)\n",
    "\n",
    "Q1 = df['Wind Speed_km/h'].quantile(0.25)\n",
    "Q3 = df['Wind Speed_km/h'].quantile(0.75)\n",
    "IQR = Q3 - Q1\n",
    "Wind_Speed_outliers = df[(df['Wind Speed_km/h'] < (Q1 - 1.5 * IQR)) | (df['Wind Speed_km/h'] > (Q3 + 1.5 * IQR))]\n",
    "print(\"\\n\\nWind speed outliers \\n\",Wind_Speed_outliers)\n",
    "\n",
    "Q1 = df['Visibility_km'].quantile(0.25)\n",
    "Q3 = df['Visibility_km'].quantile(0.75)\n",
    "IQR = Q3 - Q1\n",
    "Visibility_outliers = df[(df['Visibility_km'] < (Q1 - 1.5 * IQR)) | (df['Visibility_km'] > (Q3 + 1.5 * IQR))]\n",
    "print(\"\\n\\n Visibility outliers \\n\",Visibility_outliers)\n",
    "\n",
    "\n"
   ]
  },
  {
   "cell_type": "code",
   "execution_count": null,
   "metadata": {},
   "outputs": [],
   "source": []
  }
 ],
 "metadata": {
  "kernelspec": {
   "display_name": "Python 3",
   "language": "python",
   "name": "python3"
  },
  "language_info": {
   "codemirror_mode": {
    "name": "ipython",
    "version": 3
   },
   "file_extension": ".py",
   "mimetype": "text/x-python",
   "name": "python",
   "nbconvert_exporter": "python",
   "pygments_lexer": "ipython3",
   "version": "3.12.3"
  }
 },
 "nbformat": 4,
 "nbformat_minor": 2
}
